{
 "cells": [
  {
   "cell_type": "code",
   "execution_count": 1,
   "id": "89e077ca-9ee6-4bd0-b266-d66b9e77e4d8",
   "metadata": {},
   "outputs": [
    {
     "name": "stdout",
     "output_type": "stream",
     "text": [
      "Hello, world!\n"
     ]
    }
   ],
   "source": [
    "print(\"Hello, world!\")"
   ]
  },
  {
   "cell_type": "markdown",
   "id": "a6eb1e6c-65f4-4dc9-a693-a72ac4e0d8b5",
   "metadata": {},
   "source": [
    "# My First Markdown Heading"
   ]
  },
  {
   "cell_type": "markdown",
   "id": "8cdeaa71-1d29-48cd-b837-ea175a8a07ed",
   "metadata": {},
   "source": [
    "## My Second Markdown Heading"
   ]
  },
  {
   "cell_type": "markdown",
   "id": "ab09395c-9399-4dab-9901-c489bc4b6132",
   "metadata": {},
   "source": [
    "This is some **bold** text."
   ]
  },
  {
   "cell_type": "markdown",
   "id": "7d56e53d-6306-495e-81ad-baf4564c48e6",
   "metadata": {},
   "source": [
    "1. First Item \n",
    "2. Second Item \n",
    "3. Third Item"
   ]
  },
  {
   "cell_type": "code",
   "execution_count": 3,
   "id": "f28b6950-d12c-4d44-9907-0cfe494ab43e",
   "metadata": {},
   "outputs": [],
   "source": [
    "my_var = 5"
   ]
  },
  {
   "cell_type": "code",
   "execution_count": 5,
   "id": "32c767e1-aa84-4c2f-929a-9bb8e59445d5",
   "metadata": {},
   "outputs": [
    {
     "name": "stdout",
     "output_type": "stream",
     "text": [
      "10\n"
     ]
    }
   ],
   "source": [
    "result = my_var * 2\n",
    "print(result)"
   ]
  }
 ],
 "metadata": {
  "kernelspec": {
   "display_name": "Python 3 (ipykernel)",
   "language": "python",
   "name": "python3"
  },
  "language_info": {
   "codemirror_mode": {
    "name": "ipython",
    "version": 3
   },
   "file_extension": ".py",
   "mimetype": "text/x-python",
   "name": "python",
   "nbconvert_exporter": "python",
   "pygments_lexer": "ipython3",
   "version": "3.10.9"
  }
 },
 "nbformat": 4,
 "nbformat_minor": 5
}
